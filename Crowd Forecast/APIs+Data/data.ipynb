{
 "cells": [
  {
   "cell_type": "markdown",
   "id": "6660184e",
   "metadata": {},
   "source": [
    "| Column Name             | Example Value           | Description                            | Source/Method             |\n",
    "|------------------------|-------------------------|----------------------------------------|---------------------------|\n",
    "| `beach_id`             | 0001                    | Unique identifier for the beach        | Assigned                  |\n",
    "| `timestamp`            | 2025-05-27 08:00:00     | Date and time of forecast              | Collected                 |\n",
    "| `day`                  | Tuesday                 | Day of the week                        | Collected                 |\n",
    "| `is_holiday`           | 0                       | Whether the day is a public holiday  | API (holidayapi.com) (i dont think im using this one anymore too much work, just gonna hard code it)  |\n",
    "| `weather`              | Cloudy                  | Forecasted weather condition           | API (v1/archive or v1/forecast Open-Meteo, weather_code)    |\n",
    "| `sea_temp`             | 17.8                    | Sea surface temperature in °C          | API (v1/marine Open-Meteo, sea_sruface_temperature)    |\n",
    "| `wave_height`          | 1.4                     | Wave height in meters                  | API (v1/marine Open-Meteo, wave_height)    |\n",
    "| `wind_speed`           | 9.5                     | Wind speed at 10m in km/h              | API (v1/archive or v1/forecastOpen-Meteo, wind_speed_10m)    |\n",
    "| `crowdedness_percentage` | 62                    | Predicted crowdedness at that time     | Forecast model            |\n",
    "\n",
    "## this jupyter notebook for creating realistic dummy data for past 3 months plus 1 week ahead from 05/27 "
   ]
  },
  {
   "cell_type": "code",
   "execution_count": 14,
   "id": "0fa26b14",
   "metadata": {},
   "outputs": [],
   "source": [
    "# import requests\n",
    "# import json\n",
    "\n",
    "# # HOLIDAYAPI.COM \n",
    "# # db8b28bb-631f-4c44-83c9-95c93a862d91\n",
    "# url = 'https://holidayapi.com/v1/holidays'\n",
    "# key = 'db8b28bb-631f-4c44-83c9-95c93a862d91'\n",
    "# params = {\n",
    "#     'key': key,\n",
    "#     'country': 'US',\n",
    "#     'year': 2024,\n",
    "#     'public': True\n",
    "# }\n",
    "\n",
    "# response = requests.get(url, params=params)\n",
    "# data = response.json()\n",
    "\n",
    "# print(json.dumps(data, indent=2))"
   ]
  },
  {
   "cell_type": "code",
   "execution_count": 35,
   "id": "754f6b64",
   "metadata": {},
   "outputs": [
    {
     "name": "stdout",
     "output_type": "stream",
     "text": [
      "✅ New rows added to existing CSV. Final shape: (4320, 9)\n"
     ]
    }
   ],
   "source": [
    "import pandas as pd\n",
    "from datetime import datetime, timedelta\n",
    "\n",
    "# --- Load Existing CSV ---\n",
    "existing_file = \"dummy_data.csv\"\n",
    "df_existing = pd.read_csv(existing_file)\n",
    "\n",
    "# --- Generate New Hourly Entries for 3 Months ---\n",
    "start_date = datetime(2025, 5, 27)\n",
    "end_date = datetime(2025, 2, 27)\n",
    "beach_ids = ['0001', '0002']\n",
    "new_entries = []\n",
    "\n",
    "current = start_date\n",
    "while current >= end_date:\n",
    "    for hour in range(24):\n",
    "        timestamp = current.replace(hour=hour, minute=0, second=0)\n",
    "        day_of_week = timestamp.strftime('%A')\n",
    "        formatted_time = timestamp.strftime('%Y-%m-%dT%H:%M:%S')\n",
    "        for beach_id in beach_ids:\n",
    "            new_entries.append({\n",
    "                \"beach_id\": beach_id,\n",
    "                \"timestamp\": formatted_time,\n",
    "                \"day\": day_of_week\n",
    "            })\n",
    "    current -= timedelta(days=1)\n",
    "\n",
    "df_new = pd.DataFrame(new_entries)\n",
    "\n",
    "# --- Align Columns with Existing Data ---\n",
    "# Add missing columns to df_new and fill with NaN\n",
    "for col in df_existing.columns:\n",
    "    if col not in df_new.columns:\n",
    "        df_new[col] = pd.NA\n",
    "\n",
    "# Reorder columns to match existing file\n",
    "df_new = df_new[df_existing.columns]\n",
    "\n",
    "# --- Combine and Save ---\n",
    "df_combined = pd.concat([df_existing, df_new], ignore_index=True)\n",
    "df_combined.to_csv(existing_file, index=False)\n",
    "\n",
    "print(\"✅ New rows added to existing CSV. Final shape:\", df_combined.shape)\n"
   ]
  },
  {
   "cell_type": "code",
   "execution_count": 36,
   "id": "8511f621",
   "metadata": {},
   "outputs": [
    {
     "name": "stdout",
     "output_type": "stream",
     "text": [
      "✅ Updated 'dummy_data.csv' with 'is_holiday' column.\n"
     ]
    }
   ],
   "source": [
    "# Path to your existing CSV\n",
    "csv_path = \"dummy_data.csv\"\n",
    "\n",
    "# Load it\n",
    "df = pd.read_csv(csv_path)\n",
    "\n",
    "# Define holidays to match against\n",
    "us_holidays_2025 = {\n",
    "    \"2025-01-01\", \"2025-01-20\", \"2025-02-17\", \"2025-05-26\",\n",
    "    \"2025-07-04\", \"2025-09-01\", \"2025-10-13\", \"2025-11-11\",\n",
    "    \"2025-11-27\", \"2025-12-25\"\n",
    "}\n",
    "\n",
    "# Add is_holiday column: 1 if date in holidays, else 0\n",
    "df['is_holiday'] = pd.to_datetime(df['timestamp']).dt.strftime('%Y-%m-%d').isin(us_holidays_2025).astype(int)\n",
    "\n",
    "# Overwrite the original CSV\n",
    "df.to_csv(csv_path, index=False)\n",
    "\n",
    "print(f\"✅ Updated '{csv_path}' with 'is_holiday' column.\")"
   ]
  },
  {
   "cell_type": "code",
   "execution_count": null,
   "id": "7ce5b003",
   "metadata": {},
   "outputs": [
    {
     "name": "stdout",
     "output_type": "stream",
     "text": [
      "✅ Weather data successfully updated for beach_id = 1 and CSV overwritten.\n"
     ]
    }
   ],
   "source": [
    "# 1 = lower trestles\n",
    "df['beach_id'] = df['beach_id'].astype(int)\n",
    "\n",
    "# Filter only beach_id 1\n",
    "df_1 = df[df['beach_id'] == 1].copy()\n",
    "\n",
    "# Reformat timestamp to match Open-Meteo API format\n",
    "df_1['timestamp'] = pd.to_datetime(df_1['timestamp']).dt.strftime('%Y-%m-%dT%H:00')\n",
    "\n",
    "# Call Open-Meteo API for beach_id 1 (Lower Trestles)\n",
    "url = \"https://marine-api.open-meteo.com/v1/marine\"\n",
    "params = {\n",
    "    \"latitude\": 33.381222, \n",
    "    \"longitude\": -117.59374,\n",
    "    \"past_days\": 90,\n",
    "    \"hourly\": [\"wave_height\", \"sea_surface_temperature\"],\n",
    "    \"forecast_days\": 0,\n",
    "    \"timezone\": \"America/Los_Angeles\"\n",
    "}\n",
    "response = requests.get(url, params=params)\n",
    "data = response.json()\n",
    "\n",
    "# Create DataFrame from API response\n",
    "meteo_df = pd.DataFrame({\n",
    "    \"timestamp\": data[\"hourly\"][\"time\"],\n",
    "    \"wave_height\": [round(h * 3.28084, 2) for h in data[\"hourly\"][\"wave_height\"]],\n",
    "    \"sea_temp\": [round(t * 9/5 + 32, 1) for t in data[\"hourly\"][\"sea_surface_temperature\"]]\n",
    "})\n",
    "\n",
    "# Merge meteo data into df_1\n",
    "df_1.drop(columns=[\"wave_height\", \"sea_temp\"], errors='ignore', inplace=True)\n",
    "df_1 = df_1.merge(meteo_df, on=\"timestamp\", how=\"left\")\n",
    "\n",
    "# Revert timestamp to original format\n",
    "df_1['timestamp'] = pd.to_datetime(df_1['timestamp']).dt.strftime('%Y-%m-%d %H:%M:%S')\n",
    "\n",
    "# Inject updated rows back into main dataframe\n",
    "df.loc[df['beach_id'] == 1, ['wave_height', 'sea_temp']] = df_1[['wave_height', 'sea_temp']].values\n",
    "\n",
    "# Save (overwrite) the CSV\n",
    "df.to_csv(csv_path, index=False)\n",
    "\n",
    "print(\"✅ Weather data successfully updated for beach_id = 1 and CSV overwritten.\")\n"
   ]
  },
  {
   "cell_type": "code",
   "execution_count": 39,
   "id": "2f3f6941",
   "metadata": {},
   "outputs": [
    {
     "name": "stdout",
     "output_type": "stream",
     "text": [
      "✅ Weather data successfully updated for beach_id = 2 and CSV overwritten.\n"
     ]
    }
   ],
   "source": [
    "# 2 = scripps north\n",
    "df_2 = df[df['beach_id'] == 2].copy()\n",
    "\n",
    "# Reformat timestamp to match Open-Meteo API format\n",
    "df_2['timestamp'] = pd.to_datetime(df_2['timestamp']).dt.strftime('%Y-%m-%dT%H:00')\n",
    "\n",
    "url = \"https://marine-api.open-meteo.com/v1/marine\"\n",
    "params = {\n",
    "    \"latitude\": 32.86642846031068, \n",
    "    \"longitude\": -117.25470447519228,\n",
    "    \"past_days\": 90,\n",
    "    \"hourly\": [\"wave_height\", \"sea_surface_temperature\"],\n",
    "    \"forecast_days\": 0,\n",
    "    \"timezone\": \"America/Los_Angeles\"\n",
    "}\n",
    "response = requests.get(url, params=params)\n",
    "data = response.json()\n",
    "\n",
    "# Create DataFrame from API response\n",
    "meteo_df = pd.DataFrame({\n",
    "    \"timestamp\": data[\"hourly\"][\"time\"],\n",
    "    \"wave_height\": [round(h * 3.28084, 2) for h in data[\"hourly\"][\"wave_height\"]],\n",
    "    \"sea_temp\": [round(t * 9/5 + 32, 1) for t in data[\"hourly\"][\"sea_surface_temperature\"]]\n",
    "})\n",
    "\n",
    "df_2.drop(columns=[\"wave_height\", \"sea_temp\"], errors='ignore', inplace=True)\n",
    "df_2 = df_2.merge(meteo_df, on=\"timestamp\", how=\"left\")\n",
    "\n",
    "# Revert timestamp to original format\n",
    "df_2['timestamp'] = pd.to_datetime(df_2['timestamp']).dt.strftime('%Y-%m-%d %H:%M:%S')\n",
    "\n",
    "# Inject updated rows back into main dataframe\n",
    "df.loc[df['beach_id'] == 2, ['wave_height', 'sea_temp']] = df_2[['wave_height', 'sea_temp']].values\n",
    "\n",
    "# Save (overwrite) the CSV\n",
    "df.to_csv(csv_path, index=False)\n",
    "\n",
    "print(\"✅ Weather data successfully updated for beach_id = 2 and CSV overwritten.\")\n"
   ]
  },
  {
   "cell_type": "code",
   "execution_count": null,
   "id": "84374068",
   "metadata": {},
   "outputs": [
    {
     "name": "stdout",
     "output_type": "stream",
     "text": [
      "✅ wind_speed (mph) and weather code inserted for beach_id = 1.\n"
     ]
    }
   ],
   "source": [
    "# Filter only beach_id 1\n",
    "df_1 = df[df['beach_id'] == 1].copy()\n",
    "\n",
    "# Reformat timestamp to match Open-Meteo API format\n",
    "df_1['timestamp'] = pd.to_datetime(df_1['timestamp']).dt.strftime('%Y-%m-%dT%H:00')\n",
    "\n",
    "# Open-Meteo API for wind speed and weather code\n",
    "url = \"https://historical-forecast-api.open-meteo.com/v1/forecast\"\n",
    "params = {\n",
    "    \"latitude\": 33.381222, \n",
    "    \"longitude\": -117.59374,\n",
    "    \"past_days\": 90,\n",
    "    \"hourly\": [\"wind_speed_10m\", \"weather_code\"],\n",
    "    \"forecast_days\": 0,\n",
    "    \"timezone\": \"America/Los_Angeles\"\n",
    "}\n",
    "response = requests.get(url, params=params)\n",
    "data = response.json()\n",
    "\n",
    "# Convert wind speed from km/h → mph (1 km/h ≈ 0.621371 mph)\n",
    "meteo_df = pd.DataFrame({\n",
    "    \"timestamp\": data[\"hourly\"][\"time\"],\n",
    "    \"wind_speed\": [round(kmh * 0.621371, 2) for kmh in data[\"hourly\"][\"wind_speed_10m\"]],\n",
    "    \"weather\": data[\"hourly\"][\"weather_code\"]\n",
    "})\n",
    "\n",
    "# Drop existing columns if needed\n",
    "df_1.drop(columns=[\"wind_speed\", \"weather\"], errors='ignore', inplace=True)\n",
    "\n",
    "# Merge on timestamp\n",
    "df_1 = df_1.merge(meteo_df, on=\"timestamp\", how=\"left\")\n",
    "\n",
    "# Reformat timestamp back to original\n",
    "df_1['timestamp'] = pd.to_datetime(df_1['timestamp']).dt.strftime('%Y-%m-%d %H:%M:%S')\n",
    "\n",
    "# Replace only wind_speed and weather in the main DataFrame\n",
    "df.loc[df['beach_id'] == 1, ['wind_speed', 'weather']] = df_1[['wind_speed', 'weather']].values\n",
    "\n",
    "# Save final result\n",
    "df.to_csv(csv_path, index=False)\n",
    "\n",
    "print(\"✅ wind_speed (mph) and weather code inserted for beach_id = 1.\")"
   ]
  },
  {
   "cell_type": "code",
   "execution_count": 45,
   "id": "e0376106",
   "metadata": {},
   "outputs": [],
   "source": [
    "weather_code_lookup = {\n",
    "    0: \"Clear sky\",\n",
    "    1: \"Mainly clear\",\n",
    "    2: \"Partly cloudy\",\n",
    "    3: \"Overcast\",\n",
    "    45: \"Fog\",\n",
    "    48: \"Depositing rime fog\",\n",
    "    51: \"Light drizzle\",\n",
    "    53: \"Moderate drizzle\",\n",
    "    55: \"Dense drizzle\",\n",
    "    56: \"Light freezing drizzle\",\n",
    "    57: \"Dense freezing drizzle\",\n",
    "    61: \"Slight rain\",\n",
    "    63: \"Moderate rain\",\n",
    "    65: \"Heavy rain\",\n",
    "    66: \"Light freezing rain\",\n",
    "    67: \"Heavy freezing rain\",\n",
    "    71: \"Slight snow fall\",\n",
    "    73: \"Moderate snow fall\",\n",
    "    75: \"Heavy snow fall\",\n",
    "    77: \"Snow grains\",\n",
    "    80: \"Slight rain showers\",\n",
    "    81: \"Moderate rain showers\",\n",
    "    82: \"Violent rain showers\",\n",
    "    85: \"Slight snow showers\",\n",
    "    86: \"Heavy snow showers\",\n",
    "    95: \"Thunderstorm\",\n",
    "    96: \"Thunderstorm with slight hail\",\n",
    "    99: \"Thunderstorm with heavy hail\"\n",
    "}\n"
   ]
  },
  {
   "cell_type": "code",
   "execution_count": 46,
   "id": "65dbd569",
   "metadata": {},
   "outputs": [
    {
     "name": "stdout",
     "output_type": "stream",
     "text": [
      "✅ wind_speed (mph) and weather code inserted for beach_id = 2.\n"
     ]
    }
   ],
   "source": [
    "# Filter only beach_id 2\n",
    "df_2 = df[df['beach_id'] == 2].copy()\n",
    "\n",
    "# Reformat timestamp to match Open-Meteo API format\n",
    "df_2['timestamp'] = pd.to_datetime(df_2['timestamp']).dt.strftime('%Y-%m-%dT%H:00')\n",
    "\n",
    "# Open-Meteo API for wind speed and weather code (Beach 2)\n",
    "url = \"https://historical-forecast-api.open-meteo.com/v1/forecast\"\n",
    "params = {\n",
    "    \"latitude\": 32.86642846031068,\n",
    "    \"longitude\": -117.25470447519228,\n",
    "    \"past_days\": 90,\n",
    "    \"hourly\": [\"wind_speed_10m\", \"weather_code\"],\n",
    "    \"forecast_days\": 0,\n",
    "    \"timezone\": \"America/Los_Angeles\"\n",
    "}\n",
    "response = requests.get(url, params=params)\n",
    "data = response.json()\n",
    "\n",
    "# Convert wind speed from km/h → mph\n",
    "meteo_df = pd.DataFrame({\n",
    "    \"timestamp\": data[\"hourly\"][\"time\"],\n",
    "    \"wind_speed\": [round(kmh * 0.621371, 2) for kmh in data[\"hourly\"][\"wind_speed_10m\"]],\n",
    "    \"weather\": data[\"hourly\"][\"weather_code\"]\n",
    "})\n",
    "\n",
    "# Drop old columns from df_2\n",
    "df_2.drop(columns=[\"wind_speed\", \"weather\"], errors='ignore', inplace=True)\n",
    "\n",
    "# Merge on timestamp\n",
    "df_2 = df_2.merge(meteo_df, on=\"timestamp\", how=\"left\")\n",
    "\n",
    "# Convert timestamp back to original format\n",
    "df_2['timestamp'] = pd.to_datetime(df_2['timestamp']).dt.strftime('%Y-%m-%d %H:%M:%S')\n",
    "\n",
    "# Inject updated values into full DataFrame\n",
    "df.loc[df['beach_id'] == 2, ['wind_speed', 'weather']] = df_2[['wind_speed', 'weather']].values\n",
    "\n",
    "# Save final result\n",
    "df.to_csv(csv_path, index=False)\n",
    "\n",
    "print(\"✅ wind_speed (mph) and weather code inserted for beach_id = 2.\")\n"
   ]
  },
  {
   "cell_type": "code",
   "execution_count": 51,
   "id": "93cebe7e",
   "metadata": {},
   "outputs": [
    {
     "name": "stdout",
     "output_type": "stream",
     "text": [
      "✅ Nighttime hours (9 PM – 6 AM) set to 0 crowdedness.\n"
     ]
    }
   ],
   "source": [
    "# Convert timestamp from ISO format to datetime object\n",
    "df['timestamp'] = pd.to_datetime(df['timestamp'], format=\"%Y-%m-%dT%H:%M:%S\")\n",
    "\n",
    "# Extract hour and apply 0 crowdedness for hours between 9 PM (21) and 6 AM (6)\n",
    "df['hour'] = df['timestamp'].dt.hour\n",
    "df.loc[(df['hour'] >= 21) | (df['hour'] <= 6), 'crowdedness_percentage'] = 0\n",
    "\n",
    "# Drop helper column\n",
    "df.drop(columns=['hour'], inplace=True)\n",
    "\n",
    "# Save the result\n",
    "df.to_csv(csv_path, index=False)\n",
    "\n",
    "print(\"✅ Nighttime hours (9 PM – 6 AM) set to 0 crowdedness.\") "
   ]
  },
  {
   "cell_type": "code",
   "execution_count": 52,
   "id": "7fe148dd",
   "metadata": {},
   "outputs": [
    {
     "name": "stderr",
     "output_type": "stream",
     "text": [
      "C:\\Users\\chris\\AppData\\Local\\Temp\\ipykernel_31616\\3181721029.py:8: SettingWithCopyWarning: \n",
      "A value is trying to be set on a copy of a slice from a DataFrame.\n",
      "Try using .loc[row_indexer,col_indexer] = value instead\n",
      "\n",
      "See the caveats in the documentation: https://pandas.pydata.org/pandas-docs/stable/user_guide/indexing.html#returning-a-view-versus-a-copy\n",
      "  df['wind_speed'] = pd.to_numeric(df['wind_speed'], errors='coerce')\n",
      "C:\\Users\\chris\\AppData\\Local\\Temp\\ipykernel_31616\\3181721029.py:9: SettingWithCopyWarning: \n",
      "A value is trying to be set on a copy of a slice from a DataFrame.\n",
      "Try using .loc[row_indexer,col_indexer] = value instead\n",
      "\n",
      "See the caveats in the documentation: https://pandas.pydata.org/pandas-docs/stable/user_guide/indexing.html#returning-a-view-versus-a-copy\n",
      "  df['wave_height'] = pd.to_numeric(df['wave_height'], errors='coerce')\n"
     ]
    },
    {
     "data": {
      "image/png": "[encoded data removed]",
      "text/plain": [
       "<Figure size 1200x500 with 2 Axes>"
      ]
     },
     "metadata": {},
     "output_type": "display_data"
    }
   ],
   "source": [
    "import pandas as pd\n",
    "import matplotlib.pyplot as plt\n",
    "\n",
    "# Drop missing values to avoid plotting issues\n",
    "df = df.dropna(subset=['wind_speed', 'wave_height'])\n",
    "\n",
    "# Convert to numeric just in case (if not already)\n",
    "df['wind_speed'] = pd.to_numeric(df['wind_speed'], errors='coerce')\n",
    "df['wave_height'] = pd.to_numeric(df['wave_height'], errors='coerce')\n",
    "\n",
    "# Create density plots\n",
    "plt.figure(figsize=(12, 5))\n",
    "\n",
    "# --- Wind Speed Density Plot ---\n",
    "plt.subplot(1, 2, 1)\n",
    "df['wind_speed'].plot(kind='density', color='blue')\n",
    "plt.axvline(5, color='green', linestyle='--', label='5 mph')\n",
    "plt.axvline(10, color='orange', linestyle='--', label='10 mph')\n",
    "plt.axvline(15, color='red', linestyle='--', label='15 mph')\n",
    "plt.title('Wind Speed Distribution (mph)')\n",
    "plt.xlabel('Wind Speed')\n",
    "plt.legend()\n",
    "\n",
    "# --- Wave Height Density Plot ---\n",
    "plt.subplot(1, 2, 2)\n",
    "df['wave_height'].plot(kind='density', color='purple')\n",
    "plt.axvline(1, color='green', linestyle='--', label='1 ft')\n",
    "plt.axvline(2.5, color='orange', linestyle='--', label='2.5 ft')\n",
    "plt.axvline(5, color='red', linestyle='--', label='5 ft')\n",
    "plt.title('Wave Height Distribution (ft)')\n",
    "plt.xlabel('Wave Height')\n",
    "plt.legend()\n",
    "\n",
    "plt.tight_layout()\n",
    "plt.show()\n"
   ]
  },
  {
   "cell_type": "code",
   "execution_count": 54,
   "id": "318893a7",
   "metadata": {},
   "outputs": [
    {
     "name": "stdout",
     "output_type": "stream",
     "text": [
      "✅ Crowdedness percentages assigned based on surf conditions.\n"
     ]
    }
   ],
   "source": [
    "import numpy as np \n",
    "# Function to determine crowdedness\n",
    "def assign_crowdedness(row):\n",
    "    hour = row['timestamp'].hour\n",
    "    wave = row['wave_height']\n",
    "    wind = row['wind_speed']\n",
    "\n",
    "    # Night hours\n",
    "    if hour < 6 or hour >= 21:\n",
    "        return 0\n",
    "\n",
    "    if pd.isna(wave) or pd.isna(wind):\n",
    "        return np.nan  # Skip if missing data\n",
    "\n",
    "    # Ideal wave height\n",
    "    if 2 <= wave <= 5:\n",
    "        if wind <= 6:\n",
    "            return np.random.randint(60, 101)\n",
    "        elif wind <= 12:\n",
    "            return np.random.randint(30, 61)\n",
    "        else:\n",
    "            return np.random.randint(10, 31)\n",
    "    elif wave < 2:\n",
    "        return np.random.randint(0, 31)\n",
    "    elif wave > 5:\n",
    "        if wind <= 6:\n",
    "            return np.random.randint(30, 61)\n",
    "        else:\n",
    "            return np.random.randint(0, 21)\n",
    "    return np.nan\n",
    "\n",
    "# Apply the function\n",
    "df['crowdedness_percentage'] = df['crowdedness_percentage'].combine_first(df.apply(assign_crowdedness, axis=1))\n",
    "\n",
    "# Save over the original file\n",
    "df.to_csv(csv_path, index=False)\n",
    "\n",
    "print(\"✅ Crowdedness percentages assigned based on surf conditions.\")"
   ]
  },
  {
   "cell_type": "code",
   "execution_count": null,
   "id": "b81f2899",
   "metadata": {},
   "outputs": [],
   "source": []
  }
 ],
 "metadata": {
  "kernelspec": {
   "display_name": "venv",
   "language": "python",
   "name": "python3"
  },
  "language_info": {
   "codemirror_mode": {
    "name": "ipython",
    "version": 3
   },
   "file_extension": ".py",
   "mimetype": "text/x-python",
   "name": "python",
   "nbconvert_exporter": "python",
   "pygments_lexer": "ipython3",
   "version": "3.9.5"
  }
 },
 "nbformat": 4,
 "nbformat_minor": 5
}
