{
 "cells": [
  {
   "cell_type": "markdown",
   "id": "d76441c9",
   "metadata": {},
   "source": [
    "overhead_code,daycondition,NightCondition"
   ]
  },
  {
   "cell_type": "code",
   "execution_count": 2,
   "id": "7f3b581f",
   "metadata": {},
   "outputs": [
    {
     "name": "stdout",
     "output_type": "stream",
     "text": [
      "Unique weather codes and descriptions:\n",
      "\n",
      "113: Day - Sunny, Night - Clear\n",
      "116: Day - Partly cloudy, Night - Partly cloudy\n",
      "119: Day - Cloudy, Night - Cloudy\n",
      "122: Day - Overcast, Night - Overcast\n",
      "143: Day - Mist, Night - Mist\n",
      "176: Day - Patchy rain possible, Night - Patchy rain possible\n",
      "179: Day - Patchy snow possible, Night - Patchy snow possible\n",
      "182: Day - Patchy sleet possible, Night - Patchy sleet possible\n",
      "185: Day - Patchy freezing drizzle possible, Night - Patchy freezing drizzle possible\n",
      "200: Day - Thundery outbreaks possible, Night - Thundery outbreaks possible\n",
      "227: Day - Blowing snow, Night - Blowing snow\n",
      "230: Day - Blizzard, Night - Blizzard\n",
      "248: Day - Fog, Night - Fog\n",
      "260: Day - Freezing fog, Night - Freezing fog\n",
      "263: Day - Patchy light drizzle, Night - Patchy light drizzle\n",
      "266: Day - Light drizzle, Night - Light drizzle\n",
      "281: Day - Freezing drizzle, Night - Freezing drizzle\n",
      "284: Day - Heavy freezing drizzle, Night - Heavy freezing drizzle\n",
      "293: Day - Patchy light rain, Night - Patchy light rain\n",
      "296: Day - Light rain, Night - Light rain\n",
      "299: Day - Moderate rain at times, Night - Moderate rain at times\n",
      "302: Day - Moderate rain, Night - Moderate rain\n",
      "305: Day - Heavy rain at times, Night - Heavy rain at times\n",
      "308: Day - Heavy rain, Night - Heavy rain\n",
      "311: Day - Light freezing rain, Night - Light freezing rain\n"
     ]
    }
   ],
   "source": [
    "import csv\n",
    "\n",
    "# Path to your CSV file\n",
    "csv_file_path = \"Multilingual_Weather_Conditions.csv\"\n",
    "\n",
    "# Set to store unique (code, day, night) entries\n",
    "unique_conditions = set()\n",
    "\n",
    "with open(csv_file_path, mode='r', encoding='utf-8') as file:\n",
    "    reader = csv.DictReader(file)\n",
    "    \n",
    "    for row in reader:\n",
    "        code = row[\"overhead_code\"].strip()\n",
    "        day = row[\"daycondition\"].strip()\n",
    "        night = row[\"NightCondition\"].strip()\n",
    "        \n",
    "        unique_conditions.add((code, day, night))\n",
    "\n",
    "# Print the results\n",
    "print(\"Unique weather codes and descriptions:\\n\")\n",
    "for code, day, night in sorted(unique_conditions, key=lambda x: int(x[0])):\n",
    "    print(f\"{code}: Day - {day}, Night - {night}\")\n"
   ]
  },
  {
   "cell_type": "code",
   "execution_count": null,
   "id": "30447712",
   "metadata": {},
   "outputs": [],
   "source": []
  }
 ],
 "metadata": {
  "kernelspec": {
   "display_name": "venv",
   "language": "python",
   "name": "python3"
  },
  "language_info": {
   "codemirror_mode": {
    "name": "ipython",
    "version": 3
   },
   "file_extension": ".py",
   "mimetype": "text/x-python",
   "name": "python",
   "nbconvert_exporter": "python",
   "pygments_lexer": "ipython3",
   "version": "3.9.5"
  }
 },
 "nbformat": 4,
 "nbformat_minor": 5
}
